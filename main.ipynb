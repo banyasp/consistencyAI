{
  "cells": [
    {
      "cell_type": "markdown",
      "metadata": {},
      "source": [
        "# ConsistencyAI - Complete Pipeline\n",
        "\n",
        "**A benchmark for evaluating LLM consistency across demographics**\n",
        "\n",
        "By: Peter Banyas, Shristi Sharma, Alistair Simmons, Atharva Vispute (The Duke Phishermen)\n",
        "\n",
        "---\n",
        "\n",
        "## What This Notebook Does\n",
        "\n",
        "This notebook demonstrates the complete ConsistencyAI workflow:\n",
        "\n",
        "1. **Load Personas** - Fetch diverse personas from NVIDIA Nemotron dataset\n",
        "2. **Generate Queries** - Create personalized queries for each persona\n",
        "3. **Query LLMs** - Get responses from multiple language models\n",
        "4. **Compute Similarity** - Analyze response consistency using embeddings\n",
        "5. **Visualize Results** - Create heatmaps, leaderboards, and 3D plots\n",
        "6. **Advanced Analysis** - Clustering and negative similarity detection\n",
        "\n",
        "---\n",
        "\n",
        "## Quick Start\n",
        "\n",
        "**For a fresh run:** Execute each cell in order\n",
        "\n",
        "**To resume from cache:** Use the \"Load from cache\" cells instead of running fresh\n",
        "\n",
        "**To customize:** Edit the configuration in the setup cells\n",
        "\n",
        "---\n"
      ]
    },
    {
      "cell_type": "markdown",
      "metadata": {},
      "source": [
        "## Setup & Configuration\n"
      ]
    },
    {
      "cell_type": "code",
      "execution_count": 1,
      "metadata": {},
      "outputs": [
        {
          "name": "stdout",
          "output_type": "stream",
          "text": [
            "Dependencies checked/installed\n"
          ]
        }
      ],
      "source": [
        "# Install dependencies (if needed)\n",
        "import sys\n",
        "import subprocess\n",
        "\n",
        "try:\n",
        "    subprocess.run([sys.executable, '-m', 'pip', 'install', '-q', '-r', 'requirements.txt'], check=False)\n",
        "    print(\"Dependencies checked/installed\")\n",
        "except Exception as e:\n",
        "    print(f\"Warning: Could not install dependencies: {e}\")\n"
      ]
    },
    {
      "cell_type": "code",
      "execution_count": 2,
      "metadata": {},
      "outputs": [
        {
          "name": "stdout",
          "output_type": "stream",
          "text": [
            "All imports successful\n",
            "ConsistencyAI ready to use\n",
            "Jupyter compatibility enabled\n"
          ]
        }
      ],
      "source": [
        "# Import the ConsistencyAI package\n",
        "from duplicity import (\n",
        "    # Personas\n",
        "    get_and_clean_personas,\n",
        "    generate_queries_for_personas,\n",
        "    load_latest_personas,\n",
        "    \n",
        "    # Queries\n",
        "    query_llm_fast,\n",
        "    query_llm_fast_resume,\n",
        "    load_latest_results,\n",
        "    load_latest_fast_results,\n",
        "    \n",
        "    # Similarity\n",
        "    supercompute_similarities,\n",
        "    collect_avg_scores_by_model,\n",
        "    save_similarity_results,\n",
        "    load_latest_similarity_results,\n",
        "    load_similarity_results,\n",
        "    \n",
        "    # Visualization\n",
        "    plot_similarity_matrix_with_values,\n",
        "    plot_overall_leaderboard,\n",
        "    plot_similarity_by_sphere,\n",
        "    Embedding3DVisualizer,\n",
        "    \n",
        "    # Advanced Analysis\n",
        "    analyze_and_cluster_embeddings,\n",
        "    print_analysis_summary,\n",
        "    \n",
        "    # Central Analysis\n",
        "    compute_central_analysis,\n",
        "    print_central_analysis_summary,\n",
        "    \n",
        "    # Configuration\n",
        "    config\n",
        ")\n",
        "\n",
        "import os\n",
        "import numpy as np\n",
        "import matplotlib.pyplot as plt\n",
        "\n",
        "# Enable nested event loops for Jupyter compatibility\n",
        "import nest_asyncio\n",
        "nest_asyncio.apply()\n",
        "\n",
        "print(\"All imports successful\")\n",
        "print(\"ConsistencyAI ready to use\")\n",
        "print(\"Jupyter compatibility enabled\")\n"
      ]
    },
    {
      "cell_type": "markdown",
      "metadata": {},
      "source": []
    },
    {
      "cell_type": "markdown",
      "metadata": {},
      "source": [
        "### API Key Configuration\n",
        "\n",
        "**Important:** If you've already imported the duplicity package and then set your API key, you need to restart the kernel for the changes to take effect.\n",
        "\n",
        "To restart: Kernel → Restart & Clear Output, then re-run all cells.\n"
      ]
    },
    {
      "cell_type": "code",
      "execution_count": 3,
      "metadata": {},
      "outputs": [
        {
          "name": "stdout",
          "output_type": "stream",
          "text": [
            "Warning: OPENROUTER_API_KEY is not set\n",
            "Set it with: config.set_openrouter_key('your-key')\n"
          ]
        }
      ],
      "source": [
        "# Set your API keys here or via environment variables\n",
        "# Uncomment and add your keys:\n",
        "# config.set_openrouter_key(\"your-key-here\")\n",
        "# config.set_openai_key(\"your-key-here\")  # Optional\n",
        "# config.set_google_key(\"your-key-here\")  # Optional\n",
        "\n",
        "# Check if API key is set\n",
        "if config.OPENROUTER_API_KEY:\n",
        "    print(\"OPENROUTER_API_KEY is set\")\n",
        "else:\n",
        "    print(\"Warning: OPENROUTER_API_KEY is not set\")\n",
        "    print(\"Set it with: config.set_openrouter_key('your-key')\")\n"
      ]
    },
    {
      "cell_type": "markdown",
      "metadata": {},
      "source": [
        "---\n",
        "\n",
        "## Experiment Configuration\n",
        "\n",
        "**Customize your experiment here!**\n"
      ]
    },
    {
      "cell_type": "code",
      "execution_count": 4,
      "metadata": {},
      "outputs": [
        {
          "name": "stdout",
          "output_type": "stream",
          "text": [
            "Experiment Configuration:\n",
            "   Personas: 50\n",
            "   Topics: 3 (Climate Change, Vaccines, Artificial Intelligence)\n",
            "   Models: 3\n",
            "      - x-ai/grok-4-fast\n",
            "      - anthropic/claude-sonnet-4.5\n",
            "      - google/gemini-2.5-flash\n",
            "   Total queries: 450\n"
          ]
        }
      ],
      "source": [
        "# ============================================================\n",
        "# EXPERIMENT CONFIGURATION - CUSTOMIZE HERE!\n",
        "# ============================================================\n",
        "\n",
        "# Number of personas to test\n",
        "NUM_PERSONAS = 50  # Start small for testing, increase for full experiments\n",
        "\n",
        "# Topics to query about\n",
        "TOPICS = [\n",
        "    \"Climate Change\",\n",
        "    \"Vaccines\",\n",
        "    \"Artificial Intelligence\",\n",
        "]\n",
        "\n",
        "# Models to test\n",
        "MODELS = [\n",
        "    \"x-ai/grok-4-fast\",\n",
        "    \"anthropic/claude-sonnet-4.5\",\n",
        "    \"google/gemini-2.5-flash\",\n",
        "]\n",
        "\n",
        "# API routing configuration\n",
        "ALL_OPEN_ROUTER = True  # Route all models through OpenRouter\n",
        "\n",
        "# Performance settings\n",
        "INITIAL_BATCH_SIZE = 30\n",
        "INITIAL_CONCURRENCY = 10\n",
        "MAX_CONCURRENCY = 50\n",
        "ADAPTIVE_MODE = True\n",
        "\n",
        "# Experiment tag\n",
        "EXPERIMENT_TAG = \"demo_run\"\n",
        "\n",
        "# ============================================================\n",
        "\n",
        "print(\"Experiment Configuration:\")\n",
        "print(f\"   Personas: {NUM_PERSONAS}\")\n",
        "print(f\"   Topics: {len(TOPICS)} ({', '.join(TOPICS)})\")\n",
        "print(f\"   Models: {len(MODELS)}\")\n",
        "for model in MODELS:\n",
        "    print(f\"      - {model}\")\n",
        "total_queries_per_model = NUM_PERSONAS * len(TOPICS)\n",
        "print(f\"   Total queries: {total_queries_per_model * len(MODELS)}\")\n"
      ]
    },
    {
      "cell_type": "markdown",
      "metadata": {},
      "source": [
        "---\n",
        "\n",
        "## Step 1: Load Personas\n",
        "\n",
        "Fetch diverse personas from the NVIDIA Nemotron dataset.\n"
      ]
    },
    {
      "cell_type": "code",
      "execution_count": 5,
      "metadata": {},
      "outputs": [
        {
          "name": "stdout",
          "output_type": "stream",
          "text": [
            "Fetching 50 personas...\n"
          ]
        },
        {
          "name": "stdout",
          "output_type": "stream",
          "text": [
            "Loaded 50 personas\n",
            "\n",
            "Sample Persona:\n",
            "   Age: 72, Sex: Male\n",
            "   Persona: A disciplined, sociable visionary, Jonathan balances practicality with curiosity...\n"
          ]
        }
      ],
      "source": [
        "# Fetch fresh personas\n",
        "print(f\"Fetching {NUM_PERSONAS} personas...\")\n",
        "\n",
        "personas = get_and_clean_personas(\n",
        "    offset=0,\n",
        "    length=NUM_PERSONAS,\n",
        "    cache=True,\n",
        "    tag=EXPERIMENT_TAG\n",
        ")\n",
        "\n",
        "num_personas = len(personas.get('rows', []))\n",
        "print(f\"Loaded {num_personas} personas\")\n",
        "\n",
        "# Show sample\n",
        "if personas['rows']:\n",
        "    sample = personas['rows'][0]['row']\n",
        "    print(f\"\\nSample Persona:\")\n",
        "    print(f\"   Age: {sample.get('age')}, Sex: {sample.get('sex')}\")\n",
        "    print(f\"   Persona: {sample.get('persona', '')[:80]}...\")\n",
        "\n"
      ]
    },
    {
      "cell_type": "markdown",
      "metadata": {},
      "source": [
        "### ALT: Load Cached Personas\n",
        "\n",
        "**Skip fetching** and load the most recent cached personas instead.\n"
      ]
    },
    {
      "cell_type": "code",
      "execution_count": null,
      "metadata": {},
      "outputs": [
        {
          "name": "stdout",
          "output_type": "stream",
          "text": [
            "Loaded 50 personas from cache\n"
          ]
        }
      ],
      "source": [
        "# # ALTERNATIVE: Load cached personas instead of fetching\n",
        "# # Uncomment to use cached data:\n",
        "\n",
        "# personas = load_latest_personas()\n",
        "# if personas:\n",
        "#     num_personas = len(personas.get('rows', []))\n",
        "#     print(f\"Loaded {num_personas} personas from cache\")\n",
        "# else:\n",
        "#     print(\"No cached personas found. Please run the cell above to fetch fresh personas.\")\n"
      ]
    },
    {
      "cell_type": "markdown",
      "metadata": {},
      "source": [
        "---\n",
        "\n",
        "## Step 2: Generate Queries\n",
        "\n",
        "Create personalized queries for each persona and topic.\n"
      ]
    },
    {
      "cell_type": "code",
      "execution_count": 6,
      "metadata": {},
      "outputs": [
        {
          "name": "stdout",
          "output_type": "stream",
          "text": [
            "Generating queries for 3 topics...\n",
            "Generated 150 queries per model\n",
            "   Total across all models: 450\n"
          ]
        }
      ],
      "source": [
        "print(f\"Generating queries for {len(TOPICS)} topics...\")\n",
        "\n",
        "queries = generate_queries_for_personas(personas, TOPICS)\n",
        "\n",
        "total_queries_per_model = sum(len(topic_queries) for topic_queries in queries.values())\n",
        "print(f\"Generated {total_queries_per_model} queries per model\")\n",
        "print(f\"   Total across all models: {total_queries_per_model * len(MODELS)}\")\n"
      ]
    },
    {
      "cell_type": "markdown",
      "metadata": {},
      "source": [
        "---\n",
        "\n",
        "## Step 3: Query LLMs\n",
        "\n",
        "Send queries to language models and collect responses.\n",
        "\n",
        "**Features:** Adaptive concurrency, automatic retries, incremental saving, real-time progress\n"
      ]
    },
    {
      "cell_type": "markdown",
      "metadata": {},
      "source": []
    },
    {
      "cell_type": "code",
      "execution_count": 7,
      "metadata": {},
      "outputs": [
        {
          "name": "stdout",
          "output_type": "stream",
          "text": [
            "Starting LLM queries...\n",
            "   Estimated time: ~0.8 minutes\n",
            "\\nNote: Progress is saved incrementally. You can stop and resume anytime!\\n\n",
            "🎯 Starting FAST robust query processing (100% success mode):\n",
            "   Models: 3\n",
            "   Topics: 3\n",
            "   Personas per topic: 50\n",
            "   Total queries: 450\n",
            "   Initial batch size: 30\n",
            "   Initial concurrency: 10\n",
            "   Max concurrency: 50\n",
            "   Adaptive mode: True\n",
            "   All OpenRouter: True\n",
            "   Max retries: 5\n",
            "   100% success mode: True\n",
            "   Incremental saving: True\n",
            "   Incremental interval: Every 1 batch(es)\n",
            "   Incremental folder: /Users/peterbanyas/Desktop/Cyber/openai/duplicity3/consistencyAI/logs/incremental\n",
            "📋 Created 450 expected task combinations (model×topic×persona)\n",
            "   Total batches: 15\n",
            "🚀 Processing batch 1/15 (30 queries, concurrency: 10, current batch size: 30)\n",
            "✅ Batch 1 complete: 30 success, 0 failed, 26830 tokens, 30.1s\n",
            "📈 Increasing batch size from 30 to 40 (success rate: 100.0%)\n",
            "📝 Progress saved: 1/15 batches complete (ETA: 0:07:00)\n",
            "📁 Incremental results saved: incremental_results_20251009_000435_batch001_batch_001.json\n",
            "   Progress: 1/15 (6.7%)\n",
            "   File: /Users/peterbanyas/Desktop/Cyber/openai/duplicity3/consistencyAI/logs/incremental/incremental_results_20251009_000435_batch001_batch_001.json\n",
            "📊 Progress: 30/450 (6.7%)\n",
            "   Speed: 1.0 queries/sec | Success: 100.0%\n",
            "   ETA: 7m | Concurrency: 10 | Batch size: 40\n",
            "⏳ Minimal delay: 0.1s (excellent performance: 100.0%)\n",
            "🚀 Processing batch 2/12 (40 queries, concurrency: 10, current batch size: 40)\n",
            "✅ Batch 2 complete: 40 success, 0 failed, 35864 tokens, 31.8s\n",
            "📈 Increasing batch size from 40 to 50 (success rate: 100.0%)\n",
            "📝 Progress saved: 2/12 batches complete (ETA: 0:05:10)\n",
            "📁 Incremental results saved: incremental_results_20251009_000435_batch002_batch_002.json\n",
            "   Progress: 2/12 (16.7%)\n",
            "   File: /Users/peterbanyas/Desktop/Cyber/openai/duplicity3/consistencyAI/logs/incremental/incremental_results_20251009_000435_batch002_batch_002.json\n",
            "📊 Progress: 70/450 (15.6%)\n",
            "   Speed: 1.1 queries/sec | Success: 100.0%\n",
            "   ETA: 5m | Concurrency: 10 | Batch size: 50\n",
            "⏳ Minimal delay: 0.1s (excellent performance: 100.0%)\n",
            "🚀 Processing batch 3/10 (50 queries, concurrency: 10, current batch size: 50)\n",
            "✅ Batch 3 complete: 50 success, 0 failed, 44971 tokens, 42.6s\n",
            "📈 Increasing batch size from 50 to 60 (success rate: 100.0%)\n",
            "📝 Progress saved: 3/10 batches complete (ETA: 0:04:04)\n",
            "📁 Incremental results saved: incremental_results_20251009_000435_batch003_batch_003.json\n",
            "   Progress: 3/10 (30.0%)\n",
            "   File: /Users/peterbanyas/Desktop/Cyber/openai/duplicity3/consistencyAI/logs/incremental/incremental_results_20251009_000435_batch003_batch_003.json\n",
            "📊 Progress: 120/450 (26.7%)\n",
            "   Speed: 1.1 queries/sec | Success: 100.0%\n",
            "   ETA: 4m | Concurrency: 10 | Batch size: 60\n",
            "⏳ Minimal delay: 0.1s (excellent performance: 100.0%)\n",
            "🚀 Processing batch 4/9 (60 queries, concurrency: 10, current batch size: 60)\n",
            "✅ Batch 4 complete: 60 success, 0 failed, 53281 tokens, 50.9s\n",
            "📈 Increasing batch size from 60 to 70 (success rate: 100.0%)\n",
            "🚀 High success rate (100.0%) - increasing concurrency to 12\n",
            "📝 Progress saved: 4/9 batches complete (ETA: 0:03:14)\n",
            "📁 Incremental results saved: incremental_results_20251009_000435_batch004_batch_004.json\n",
            "   Progress: 4/9 (44.4%)\n",
            "   File: /Users/peterbanyas/Desktop/Cyber/openai/duplicity3/consistencyAI/logs/incremental/incremental_results_20251009_000435_batch004_batch_004.json\n",
            "📊 Progress: 180/450 (40.0%)\n",
            "   Speed: 1.2 queries/sec | Success: 100.0%\n",
            "   ETA: 3m | Concurrency: 12 | Batch size: 70\n",
            "⏳ Minimal delay: 0.1s (excellent performance: 100.0%)\n",
            "🚀 Processing batch 5/8 (70 queries, concurrency: 12, current batch size: 70)\n",
            "✅ Batch 5 complete: 70 success, 0 failed, 61549 tokens, 53.0s\n",
            "📈 Increasing batch size from 70 to 80 (success rate: 100.0%)\n",
            "📝 Progress saved: 5/8 batches complete (ETA: 0:02:05)\n",
            "📁 Incremental results saved: incremental_results_20251009_000435_batch005_batch_005.json\n",
            "   Progress: 5/8 (62.5%)\n",
            "   File: /Users/peterbanyas/Desktop/Cyber/openai/duplicity3/consistencyAI/logs/incremental/incremental_results_20251009_000435_batch005_batch_005.json\n",
            "📊 Progress: 250/450 (55.6%)\n",
            "   Speed: 1.2 queries/sec | Success: 100.0%\n",
            "   ETA: 2m | Concurrency: 12 | Batch size: 80\n",
            "⏳ Minimal delay: 0.1s (excellent performance: 100.0%)\n",
            "🚀 Processing batch 6/8 (80 queries, concurrency: 12, current batch size: 80)\n",
            "⚠️  Empty/invalid response, retrying in 1.0s... (attempt 1/3)\n",
            "⚠️  Empty/invalid response, retrying in 1.0s... (attempt 1/3)\n",
            "⚠️  Empty/invalid response, retrying in 1.0s... (attempt 1/3)\n",
            "⚠️  Empty/invalid response, retrying in 2.0s... (attempt 2/3)\n",
            "❌ Max retries reached, returning invalid response\n",
            "🔄 Added to retry queue: anthropic/claude-sonnet-4.5_Artificial Intelligence_2 (attempt 1/5)\n",
            "✅ Batch 6 complete: 79 success, 1 failed, 68782 tokens, 72.8s\n",
            "📈 Increasing batch size from 80 to 90 (success rate: 98.8%)\n",
            "📝 Progress saved: 6/8 batches complete (ETA: 0:01:33)\n",
            "🔄 Retry queue: 1 items pending\n",
            "📁 Incremental results saved: incremental_results_20251009_000435_batch006_batch_006.json\n",
            "   Progress: 6/8 (75.0%)\n",
            "   File: /Users/peterbanyas/Desktop/Cyber/openai/duplicity3/consistencyAI/logs/incremental/incremental_results_20251009_000435_batch006_batch_006.json\n",
            "📊 Progress: 330/450 (73.3%)\n",
            "   Speed: 1.2 queries/sec | Success: 99.7%\n",
            "   ETA: 1m | Concurrency: 12 | Batch size: 90\n",
            "⏳ Minimal delay: 0.1s (excellent performance: 99.7%)\n",
            "🚀 Processing batch 7/8 (90 queries, concurrency: 12, current batch size: 90)\n",
            "⚠️  Empty/invalid response, retrying in 1.0s... (attempt 1/3)\n",
            "⚠️  Empty/invalid response, retrying in 1.0s... (attempt 1/3)\n",
            "⚠️  Empty/invalid response, retrying in 1.0s... (attempt 1/3)\n",
            "⚠️  Empty/invalid response, retrying in 2.0s... (attempt 2/3)\n",
            "⚠️  Empty/invalid response, retrying in 1.0s... (attempt 1/3)\n",
            "⚠️  Empty/invalid response, retrying in 1.0s... (attempt 1/3)\n",
            "⚠️  Empty/invalid response, retrying in 2.0s... (attempt 2/3)\n",
            "⚠️  Empty/invalid response, retrying in 2.0s... (attempt 2/3)\n",
            "⚠️  Empty/invalid response, retrying in 1.0s... (attempt 1/3)\n",
            "⚠️  Empty/invalid response, retrying in 1.0s... (attempt 1/3)\n",
            "⚠️  Empty/invalid response, retrying in 1.0s... (attempt 1/3)\n",
            "⚠️  Empty/invalid response, retrying in 2.0s... (attempt 2/3)\n",
            "❌ Max retries reached, returning invalid response\n",
            "🔄 Added to retry queue: anthropic/claude-sonnet-4.5_Artificial Intelligence_38 (attempt 1/5)\n",
            "✅ Batch 7 complete: 89 success, 1 failed, 76388 tokens, 100.5s\n",
            "📈 Increasing batch size from 90 to 100 (success rate: 98.9%)\n",
            "📝 Progress saved: 7/8 batches complete (ETA: 0:00:54)\n",
            "🔄 Retry queue: 2 items pending\n",
            "📁 Incremental results saved: incremental_results_20251009_000435_batch007_batch_007.json\n",
            "   Progress: 7/8 (87.5%)\n",
            "   File: /Users/peterbanyas/Desktop/Cyber/openai/duplicity3/consistencyAI/logs/incremental/incremental_results_20251009_000435_batch007_batch_007.json\n",
            "📊 Progress: 420/450 (93.3%)\n",
            "   Speed: 1.1 queries/sec | Success: 99.5%\n",
            "   ETA: 0m | Concurrency: 12 | Batch size: 100\n",
            "⏳ Minimal delay: 0.1s (excellent performance: 99.5%)\n",
            "🚀 Processing batch 8/8 (30 queries, concurrency: 12, current batch size: 100)\n",
            "⚠️  Empty/invalid response, retrying in 1.0s... (attempt 1/3)\n",
            "⚠️  Empty/invalid response, retrying in 1.0s... (attempt 1/3)\n",
            "⚠️  Empty/invalid response, retrying in 2.0s... (attempt 2/3)\n",
            "❌ Max retries reached, returning invalid response\n",
            "🔄 Added to retry queue: anthropic/claude-sonnet-4.5_Artificial Intelligence_43 (attempt 1/5)\n",
            "✅ Batch 8 complete: 29 success, 1 failed, 24805 tokens, 45.3s\n",
            "🚀 High success rate (96.7%) - increasing concurrency to 14\n",
            "📝 Progress saved: 8/8 batches complete (ETA: 0:00:00)\n",
            "🔄 Retry queue: 3 items pending\n",
            "📁 Incremental results saved: incremental_results_20251009_000435_batch008_batch_008.json\n",
            "   Progress: 8/8 (100.0%)\n",
            "   File: /Users/peterbanyas/Desktop/Cyber/openai/duplicity3/consistencyAI/logs/incremental/incremental_results_20251009_000435_batch008_batch_008.json\n",
            "📊 Progress: 450/450 (100.0%)\n",
            "   Speed: 1.1 queries/sec | Success: 99.3%\n",
            "   ETA: 0m | Concurrency: 14 | Batch size: 100\n",
            "\n",
            "🔄 Processing retry queue to achieve 100% success...\n",
            "\n",
            "🔄 Retry round 1/5\n",
            "🔄 Processing 3 failed items with SMART retry logic...\n",
            "⚠️  Empty/invalid response, retrying in 1.0s... (attempt 1/3)\n",
            "⚠️  Empty/invalid response, retrying in 1.0s... (attempt 1/3)\n",
            "⚠️  Empty/invalid response, retrying in 2.0s... (attempt 2/3)\n",
            "❌ Max retries reached, returning invalid response\n",
            "✅ Retry round complete: 2 successful, 1 still failed\n",
            "   Retry success rate: 66.7%\n",
            "📁 Incremental results saved: incremental_results_20251009_000435_batch015_retry_round_1_009.json\n",
            "   Progress: 15/15 (100.0%)\n",
            "   File: /Users/peterbanyas/Desktop/Cyber/openai/duplicity3/consistencyAI/logs/incremental/incremental_results_20251009_000435_batch015_retry_round_1_009.json\n",
            "⏳ Waiting 2.0s before next retry round...\n",
            "\n",
            "🔄 Retry round 2/5\n",
            "🔄 Processing 1 failed items with SMART retry logic...\n",
            "⚠️  Empty/invalid response, retrying in 1.0s... (attempt 1/3)\n",
            "✅ Retry round complete: 1 successful, 0 still failed\n",
            "   Retry success rate: 100.0%\n",
            "🚀 High retry success rate - can be more aggressive in future\n",
            "📁 Incremental results saved: incremental_results_20251009_000435_batch015_retry_round_2_010.json\n",
            "   Progress: 15/15 (100.0%)\n",
            "   File: /Users/peterbanyas/Desktop/Cyber/openai/duplicity3/consistencyAI/logs/incremental/incremental_results_20251009_000435_batch015_retry_round_2_010.json\n",
            "🎉 All retries successful! 100% success achieved!\n",
            "\n",
            "🔍 Checking for missing task combinations...\n",
            "✅ All expected task combinations are present!\n",
            "📁 Incremental results saved: incremental_results_20251009_000435_batch015_final_011.json\n",
            "   Progress: 15/15 (100.0%)\n",
            "   File: /Users/peterbanyas/Desktop/Cyber/openai/duplicity3/consistencyAI/logs/incremental/incremental_results_20251009_000435_batch015_final_011.json\n",
            "\n",
            "📊 Final Results:\n",
            "   Total queries processed: 453\n",
            "   Successful: 450 (99.3%)\n",
            "   Failed: 3 (0.7%)\n",
            "   \n",
            "   📋 Coverage Report:\n",
            "      Expected task combinations: 450\n",
            "      Completed task combinations: 450\n",
            "      Coverage: 100.0%\n",
            "   \n",
            "   Total tokens used: 395052\n",
            "   Total time: 503.3s (8.4 minutes)\n",
            "   Average speed: 0.9 queries/sec\n",
            "   Final concurrency: 14\n",
            "   Retry attempts: 3\n",
            "   Max retries reached: 0\n",
            "   Incremental files saved: 11 files in /Users/peterbanyas/Desktop/Cyber/openai/duplicity3/consistencyAI/logs/incremental\n",
            "🎉 PERFECT: 100% coverage with 99%+ success rate!\n",
            "\\nAll queries complete!\n",
            "   x-ai/grok-4-fast: 150 responses\n",
            "   anthropic/claude-sonnet-4.5: 150 responses\n",
            "   google/gemini-2.5-flash: 150 responses\n"
          ]
        }
      ],
      "source": [
        "print(\"Starting LLM queries...\")\n",
        "print(f\"   Estimated time: ~{(total_queries_per_model * len(MODELS)) / 10 / 60:.1f} minutes\")\n",
        "print(\"\\\\nNote: Progress is saved incrementally. You can stop and resume anytime!\\\\n\")\n",
        "\n",
        "results = query_llm_fast(\n",
        "    nested_queries=queries,\n",
        "    list_of_models=MODELS,\n",
        "    initial_batch_size=INITIAL_BATCH_SIZE,\n",
        "    initial_concurrency=INITIAL_CONCURRENCY,\n",
        "    max_concurrency=MAX_CONCURRENCY,\n",
        "    adaptive_mode=ADAPTIVE_MODE,\n",
        "    all_open_router=ALL_OPEN_ROUTER,\n",
        "    ensure_100_percent_success=True,\n",
        "    save_incremental=True,\n",
        "    max_retries=5\n",
        ")\n",
        "\n",
        "print(\"\\\\nAll queries complete!\")\n",
        "for model in results:\n",
        "    total_responses = sum(len(personas) for personas in results[model].values())\n",
        "    print(f\"   {model}: {total_responses} responses\")\n"
      ]
    },
    {
      "cell_type": "markdown",
      "metadata": {},
      "source": [
        "### ALT: Load Cached Results\n",
        "\n",
        "**Skip querying** and load the most recent LLM results instead. This saves time and API costs!\n"
      ]
    },
    {
      "cell_type": "code",
      "execution_count": null,
      "metadata": {},
      "outputs": [
        {
          "name": "stdout",
          "output_type": "stream",
          "text": [
            "Loaded query results from cache!\n",
            "   x-ai/grok-4-fast: 150 responses\n",
            "   anthropic/claude-sonnet-4.5: 150 responses\n",
            "   google/gemini-2.5-flash: 150 responses\n"
          ]
        }
      ],
      "source": [
        "# # ALTERNATIVE: Load cached query results instead of running fresh queries\n",
        "# # Uncomment to use cached data:\n",
        "\n",
        "# results = load_latest_fast_results()\n",
        "# if results:\n",
        "#     print(\"Loaded query results from cache!\")\n",
        "#     for model in results:\n",
        "#         total_responses = sum(len(personas) for personas in results[model].values())\n",
        "#         print(f\"   {model}: {total_responses} responses\")\n",
        "# else:\n",
        "#     print(\"No cached results found. Please run Step 3 above to query LLMs.\")\n"
      ]
    },
    {
      "cell_type": "markdown",
      "metadata": {},
      "source": [
        "---\n",
        "\n",
        "## Step 4: Compute Similarity\n",
        "\n",
        "Analyze response consistency using semantic embeddings.\n"
      ]
    },
    {
      "cell_type": "code",
      "execution_count": 7,
      "metadata": {},
      "outputs": [
        {
          "name": "stdout",
          "output_type": "stream",
          "text": [
            "Computing semantic similarity matrices...\n"
          ]
        },
        {
          "name": "stderr",
          "output_type": "stream",
          "text": [
            "Computing similarities:   0%|          | 0/9 [00:00<?, ?topic/s]"
          ]
        },
        {
          "name": "stderr",
          "output_type": "stream",
          "text": [
            "/Users/peterbanyas/Desktop/Cyber/openai/duplicity3/consistencyAI/venv/lib/python3.10/site-packages/tqdm/auto.py:21: TqdmWarning: IProgress not found. Please update jupyter and ipywidgets. See https://ipywidgets.readthedocs.io/en/stable/user_install.html\n",
            "  from .autonotebook import tqdm as notebook_tqdm\n"
          ]
        },
        {
          "name": "stdout",
          "output_type": "stream",
          "text": [
            "Loading sentence-transformers model from cache...\n"
          ]
        },
        {
          "name": "stderr",
          "output_type": "stream",
          "text": [
            "Computing similarities: 100%|██████████| 9/9 [00:07<00:00,  1.27topic/s, current=google/gemini-2.5-flash/Artificial Intelligence]    "
          ]
        },
        {
          "name": "stdout",
          "output_type": "stream",
          "text": [
            "\\nSimilarity computation complete!\n",
            "   Matrices computed: 9\n",
            "   Saved to: /Users/peterbanyas/Desktop/Cyber/openai/duplicity3/consistencyAI/logs/similarities_20251009_004201_demo_run.pkl\n"
          ]
        },
        {
          "name": "stderr",
          "output_type": "stream",
          "text": [
            "\n"
          ]
        }
      ],
      "source": [
        "print(\"Computing semantic similarity matrices...\")\n",
        "\n",
        "matrices, dfs, persona_ids, embeddings = supercompute_similarities(results)\n",
        "\n",
        "print(f\"\\\\nSimilarity computation complete!\")\n",
        "print(f\"   Matrices computed: {sum(len(topics) for topics in matrices.values())}\")\n",
        "\n",
        "# Save results\n",
        "similarity_path = save_similarity_results(matrices, dfs, persona_ids, embeddings, tag=EXPERIMENT_TAG)\n",
        "print(f\"   Saved to: {similarity_path}\")\n"
      ]
    },
    {
      "cell_type": "markdown",
      "metadata": {},
      "source": [
        "---\n",
        "\n",
        "### ALT: Load Cached Similarity Results\n",
        "\n",
        "**Skip similarity computation** and load the most recent cached similarity matrices.\n"
      ]
    },
    {
      "cell_type": "code",
      "execution_count": null,
      "metadata": {},
      "outputs": [
        {
          "name": "stdout",
          "output_type": "stream",
          "text": [
            "Loaded similarity results from cache!\n",
            "   Matrices computed: 9\n"
          ]
        }
      ],
      "source": [
        "# # ALTERNATIVE: Load cached similarity results instead of computing\n",
        "# # Uncomment to use cached data:\n",
        "\n",
        "# # OPTION 1: Load the latest .PKL file\n",
        "similarity_data = load_latest_similarity_results()\n",
        "\n",
        "# # # OPTION 2: Load a specific .PKL file\n",
        "# similarity_data = load_similarity_results(\"logs/similarities_20251009_004201_demo_run.pkl\")\n",
        "\n",
        "if similarity_data:\n",
        "    matrices, dfs, persona_ids, embeddings = similarity_data\n",
        "    print(\"Loaded similarity results from cache!\")\n",
        "    print(f\"   Matrices computed: {sum(len(topics) for topics in matrices.values())}\")\n",
        "else:\n",
        "    print(\"No cached similarity results found. Please run Step 4 above to compute similarities.\")\n"
      ]
    },
    {
      "cell_type": "code",
      "execution_count": 8,
      "metadata": {},
      "outputs": [
        {
          "name": "stdout",
          "output_type": "stream",
          "text": [
            "Average Similarity Scores:\n",
            "   (Higher = more consistent)\\n\n",
            "\\nx-ai/grok-4-fast:\n",
            "   Climate Change: 0.8798\n",
            "   Vaccines: 0.8846\n",
            "   Artificial Intelligence: 0.8531\n",
            "   Overall: 0.8725\n",
            "\\nanthropic/claude-sonnet-4.5:\n",
            "   Climate Change: 0.9380\n",
            "   Vaccines: 0.8262\n",
            "   Artificial Intelligence: 0.7471\n",
            "   Overall: 0.8371\n",
            "\\ngoogle/gemini-2.5-flash:\n",
            "   Climate Change: 0.8692\n",
            "   Vaccines: 0.8630\n",
            "   Artificial Intelligence: 0.8374\n",
            "   Overall: 0.8565\n"
          ]
        }
      ],
      "source": [
        "# Compute average scores\n",
        "avg_scores = collect_avg_scores_by_model(matrices)\n",
        "\n",
        "print(\"Average Similarity Scores:\")\n",
        "print(\"   (Higher = more consistent)\\\\n\")\n",
        "\n",
        "for model in avg_scores:\n",
        "    print(f\"\\\\n{model}:\")\n",
        "    for topic in avg_scores[model]:\n",
        "        score = avg_scores[model][topic]\n",
        "        print(f\"   {topic}: {score:.4f}\")\n",
        "    overall = np.mean(list(avg_scores[model].values()))\n",
        "    print(f\"   Overall: {overall:.4f}\")\n"
      ]
    },
    {
      "cell_type": "markdown",
      "metadata": {},
      "source": [
        "---\n",
        "\n",
        "## Step 5: Visualizations\n",
        "\n",
        "Create informative plots to understand model behavior.\n"
      ]
    },
    {
      "cell_type": "code",
      "execution_count": 21,
      "metadata": {},
      "outputs": [
        {
          "name": "stdout",
          "output_type": "stream",
          "text": [
            "Creating overall leaderboard...\n",
            "Saved overall leaderboard plot to: output/overall_leaderboard.png\n"
          ]
        },
        {
          "data": {
            "image/png": "[encoded data removed]",
            "text/plain": [
              "<Figure size 800x400 with 1 Axes>"
            ]
          },
          "metadata": {},
          "output_type": "display_data"
        },
        {
          "name": "stdout",
          "output_type": "stream",
          "text": [
            "Leaderboard saved to: output/overall_leaderboard.png\n"
          ]
        }
      ],
      "source": [
        "# Create overall leaderboard\n",
        "print(\"Creating overall leaderboard...\")\n",
        "\n",
        "plot_overall_leaderboard(avg_scores, save_path=\"output\", show=True)\n",
        "\n",
        "print(\"Leaderboard saved to: output/overall_leaderboard.png\")\n",
        "plt.show()\n"
      ]
    },
    {
      "cell_type": "code",
      "execution_count": 22,
      "metadata": {},
      "outputs": [
        {
          "name": "stdout",
          "output_type": "stream",
          "text": [
            "Creating topic-specific plots...\n",
            "Saved similarity by sphere plot to: output/similarity_by_sphere_Climate_Change.png\n",
            "Saved similarity by sphere plot to: output/similarity_by_sphere_Vaccines.png\n",
            "Saved similarity by sphere plot to: output/similarity_by_sphere_Artificial_Intelligence.png\n",
            "Topic plots saved to: output/\n"
          ]
        }
      ],
      "source": [
        "# Create topic-specific plots\n",
        "print(\"Creating topic-specific plots...\")\n",
        "\n",
        "plot_similarity_by_sphere(avg_scores, save_path=\"output\")\n",
        "\n",
        "print(\"Topic plots saved to: output/\")\n"
      ]
    },
    {
      "cell_type": "code",
      "execution_count": 23,
      "metadata": {},
      "outputs": [
        {
          "name": "stdout",
          "output_type": "stream",
          "text": [
            "Creating similarity heatmaps...\n",
            "All heatmaps saved to: output/\n"
          ]
        }
      ],
      "source": [
        "# Create similarity heatmaps for each model/topic\n",
        "print(\"Creating similarity heatmaps...\")\n",
        "\n",
        "for model in matrices:\n",
        "    for topic in matrices[model]:\n",
        "        safe_model = model.replace(\"/\", \"_\")\n",
        "        safe_topic = topic.replace(\" \", \"_\")\n",
        "        save_path = f\"output/heatmap_{safe_model}_{safe_topic}.png\"\n",
        "        \n",
        "        fig, ax = plot_similarity_matrix_with_values(\n",
        "            similarity_matrix=matrices[model][topic],\n",
        "            persona_ids=persona_ids[model][topic],\n",
        "            show_values=(len(persona_ids[model][topic]) <= 20),\n",
        "            model_name=model,\n",
        "            topic=topic,\n",
        "            save_path=save_path\n",
        "        )\n",
        "        plt.close(fig)\n",
        "\n",
        "print(\"All heatmaps saved to: output/\")\n"
      ]
    },
    {
      "cell_type": "markdown",
      "metadata": {},
      "source": [
        "---\n",
        "\n",
        "## Step 6: Analysis Part 1\n",
        "\n",
        "Perform clustering and detect negative similarities.\n"
      ]
    },
    {
      "cell_type": "code",
      "execution_count": 24,
      "metadata": {},
      "outputs": [
        {
          "name": "stdout",
          "output_type": "stream",
          "text": [
            "Performing comprehensive analysis...\n",
            "Analyzing x-ai/grok-4-fast - Climate Change...\n",
            "Analyzing x-ai/grok-4-fast - Vaccines...\n",
            "Analyzing x-ai/grok-4-fast - Artificial Intelligence...\n",
            "Analyzing anthropic/claude-sonnet-4.5 - Climate Change...\n",
            "Analyzing anthropic/claude-sonnet-4.5 - Vaccines...\n",
            "Analyzing anthropic/claude-sonnet-4.5 - Artificial Intelligence...\n",
            "Analyzing google/gemini-2.5-flash - Climate Change...\n",
            "Analyzing google/gemini-2.5-flash - Vaccines...\n",
            "Analyzing google/gemini-2.5-flash - Artificial Intelligence...\n",
            "\\nAnalysis complete!\n",
            "\n",
            "================================================================================\n",
            "EMBEDDING ANALYSIS SUMMARY\n",
            "================================================================================\n",
            "\n",
            "Model: x-ai/grok-4-fast\n",
            "----------------------------------------\n",
            "  Topic: Climate Change\n",
            "    No negative similarities found\n",
            "    Optimal clusters: 2\n",
            "    Plot saved: output/clustering/clustering_x-ai/grok-4-fast_Climate Change.png\n",
            "  Topic: Vaccines\n",
            "    No negative similarities found\n",
            "    Optimal clusters: 2\n",
            "    Plot saved: output/clustering/clustering_x-ai/grok-4-fast_Vaccines.png\n",
            "  Topic: Artificial Intelligence\n",
            "    No negative similarities found\n",
            "    Optimal clusters: 2\n",
            "    Plot saved: output/clustering/clustering_x-ai/grok-4-fast_Artificial Intelligence.png\n",
            "\n",
            "Model: anthropic/claude-sonnet-4.5\n",
            "----------------------------------------\n",
            "  Topic: Climate Change\n",
            "    No negative similarities found\n",
            "    Optimal clusters: 6\n",
            "    Plot saved: output/clustering/clustering_anthropic/claude-sonnet-4.5_Climate Change.png\n",
            "  Topic: Vaccines\n",
            "    No negative similarities found\n",
            "    Optimal clusters: 2\n",
            "    Plot saved: output/clustering/clustering_anthropic/claude-sonnet-4.5_Vaccines.png\n",
            "  Topic: Artificial Intelligence\n",
            "    No negative similarities found\n",
            "    Optimal clusters: 2\n",
            "    Plot saved: output/clustering/clustering_anthropic/claude-sonnet-4.5_Artificial Intelligence.png\n",
            "\n",
            "Model: google/gemini-2.5-flash\n",
            "----------------------------------------\n",
            "  Topic: Climate Change\n",
            "    No negative similarities found\n",
            "    Optimal clusters: 2\n",
            "    Plot saved: output/clustering/clustering_google/gemini-2.5-flash_Climate Change.png\n",
            "  Topic: Vaccines\n",
            "    No negative similarities found\n",
            "    Optimal clusters: 3\n",
            "    Plot saved: output/clustering/clustering_google/gemini-2.5-flash_Vaccines.png\n",
            "  Topic: Artificial Intelligence\n",
            "    No negative similarities found\n",
            "    Optimal clusters: 2\n",
            "    Plot saved: output/clustering/clustering_google/gemini-2.5-flash_Artificial Intelligence.png\n",
            "\n",
            "================================================================================\n",
            "TOTAL NEGATIVE SIMILARITY PAIRS: 0\n",
            "TOTAL OPTIMAL CLUSTERS: 23\n",
            "================================================================================\n"
          ]
        }
      ],
      "source": [
        "print(\"Performing comprehensive analysis...\")\n",
        "\n",
        "analysis_results = analyze_and_cluster_embeddings(\n",
        "    all_embeddings=embeddings,\n",
        "    all_similarity_matrices=matrices,\n",
        "    all_sorted_personas=persona_ids,\n",
        "    max_clusters=10,\n",
        "    random_state=42,\n",
        "    save_plots=True,\n",
        "    plots_dir=\"output/clustering\"\n",
        ")\n",
        "\n",
        "print(\"\\\\nAnalysis complete!\")\n",
        "\n",
        "# Print summary\n",
        "print_analysis_summary(analysis_results)\n"
      ]
    },
    {
      "cell_type": "markdown",
      "metadata": {},
      "source": [
        "---\n",
        "\n",
        "## Step 7: Central Analysis\n",
        "\n",
        "Compute weighted consistency metrics across models and topics.\n"
      ]
    },
    {
      "cell_type": "code",
      "execution_count": 4,
      "metadata": {},
      "outputs": [
        {
          "name": "stdout",
          "output_type": "stream",
          "text": [
            "Running central analysis...\n",
            "Central analysis complete!\n",
            "\n",
            "Files saved to: output/analysis/\n",
            "   - per_model_per_topic.csv\n",
            "   - model_overall_weighted.csv\n",
            "   - topic_across_models_weighted.csv\n",
            "   - summary.txt\n",
            "   - README.md\n"
          ]
        }
      ],
      "source": [
        "print(\"Running central analysis...\")\n",
        "\n",
        "# Compute central analysis metrics\n",
        "per_model_per_topic, model_overall_weighted, topic_across_models_weighted, benchmark = \\\n",
        "    compute_central_analysis(matrices, output_dir=\"output/analysis\")\n"
      ]
    },
    {
      "cell_type": "code",
      "execution_count": 5,
      "metadata": {},
      "outputs": [
        {
          "name": "stdout",
          "output_type": "stream",
          "text": [
            "================================================================================\n",
            "CENTRAL ANALYSIS RESULTS\n",
            "================================================================================\n",
            "\n",
            "Benchmark (mean of models' weighted means): 0.855392\n",
            "\n",
            "--------------------------------------------------------------------------------\n",
            "Top Models by Weighted Mean Similarity:\n",
            "--------------------------------------------------------------------------------\n",
            "\n",
            "                      model  weighted_mean_similarity  topics_count  total_pairs\n",
            "           x-ai/grok-4-fast                  0.872517             3         3675\n",
            "    google/gemini-2.5-flash                  0.856537             3         3675\n",
            "anthropic/claude-sonnet-4.5                  0.837123             3         3675\n",
            "\n",
            "--------------------------------------------------------------------------------\n",
            "Top Topics by Response-Weighted Consistency:\n",
            "--------------------------------------------------------------------------------\n",
            "\n",
            "                  topic  response_weighted_topic_consistency  models_contributing  total_response_pairs\n",
            "         Climate Change                             0.895669                    3                  3675\n",
            "               Vaccines                             0.857949                    3                  3675\n",
            "Artificial Intelligence                             0.812559                    3                  3675\n",
            "\n",
            "================================================================================\n"
          ]
        }
      ],
      "source": [
        "# Display results\n",
        "print_central_analysis_summary(model_overall_weighted, topic_across_models_weighted, benchmark)\n"
      ]
    },
    {
      "cell_type": "markdown",
      "metadata": {},
      "source": [
        "---\n",
        "\n",
        "## Experiment Complete\n",
        "\n",
        "### What you just did:\n",
        "\n",
        "- Loaded diverse personas from NVIDIA Nemotron dataset  \n",
        "- Generated personalized queries for each persona  \n",
        "- Queried multiple LLMs with adaptive concurrency  \n",
        "- Computed semantic similarity across responses  \n",
        "- Created comprehensive visualizations  \n",
        "- Performed clustering analysis  \n",
        "- Generated weighted consistency metrics and benchmark scores\n",
        "\n",
        "### Understanding results:\n",
        "\n",
        "**Similarity Scores:**\n",
        "- **1.0** = Perfect consistency (identical facts)\n",
        "- **0.8-0.99** = High consistency\n",
        "- **0.5-0.8** = Moderate consistency -- some discrepancies and/or differences in focus\n",
        "- **0.0-0.5** = Low consistency -- talking about totally unrelated things\n",
        "- **Negative** = Opposing facts (contradictory information)\n",
        "\n",
        "### Output Files:\n",
        "\n",
        "**Visualizations** (`output/`):\n",
        "- Heatmaps, leaderboards, and topic-specific plots\n",
        "- Clustering analysis plots (`output/clustering/`)\n",
        "\n",
        "**Central Analysis** (`output/analysis/`):\n",
        "- `per_model_per_topic.csv` - detailed similarity metrics\n",
        "- `model_overall_weighted.csv` - model rankings with weighted scores\n",
        "- `topic_across_models_weighted.csv` - topic consistency across models\n",
        "- `summary.txt` - benchmark and top-5 leaderboards\n",
        "- `README.md` - documentation\n",
        "\n",
        "### Next Steps:\n",
        "\n",
        "1. **Explore visualizations and analysis results in `output/` directory**\n",
        "2. Review the benchmark score and model rankings in `output/analysis/`\n",
        "3. Adjust configuration and re-run\n",
        "4. Try more models or topics\n",
        "5. Share your findings!\n",
        "\n",
        "---\n",
        "\n",
        "**Built by the Duke Phishermen**  \n",
        "Peter Banyas, Shristi Sharma, Alistair Simmons, Atharva Vispute\n",
        "\n",
        "With inquiries, questions, & feedback, please contact: peter dot banyas at duke dot edu\n"
      ]
    }
  ],
  "metadata": {
    "kernelspec": {
      "display_name": "venv",
      "language": "python",
      "name": "python3"
    },
    "language_info": {
      "codemirror_mode": {
        "name": "ipython",
        "version": 3
      },
      "file_extension": ".py",
      "mimetype": "text/x-python",
      "name": "python",
      "nbconvert_exporter": "python",
      "pygments_lexer": "ipython3",
      "version": "3.10.5"
    }
  },
  "nbformat": 4,
  "nbformat_minor": 2
}
